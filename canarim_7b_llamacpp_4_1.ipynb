{
  "cells": [
    {
      "cell_type": "markdown",
      "metadata": {
        "id": "JaOrz-2uHeKA"
      },
      "source": [
        "# Instalação do Llama.cpp e Dependências\n",
        "\n",
        "Esta etapa pode demorar alguns minutos."
      ]
    },
    {
      "cell_type": "code",
      "execution_count": null,
      "metadata": {
        "id": "1PruW1vaATwa"
      },
      "outputs": [],
      "source": [
        "!git clone https://github.com/ggerganov/llama.cpp"
      ]
    },
    {
      "cell_type": "code",
      "execution_count": null,
      "metadata": {
        "id": "jegsiMkjAaVz"
      },
      "outputs": [],
      "source": [
        "!pip install -r llama.cpp/requirements.txt"
      ]
    },
    {
      "cell_type": "code",
      "execution_count": null,
      "metadata": {
        "id": "TtY5DTCLIyDu"
      },
      "outputs": [],
      "source": [
        "!cd llama.cpp && make"
      ]
    },
    {
      "cell_type": "markdown",
      "metadata": {
        "id": "19bP4d8_IGoz"
      },
      "source": [
        "## Obtém o modelo desejado"
      ]
    },
    {
      "cell_type": "code",
      "execution_count": null,
      "metadata": {
        "id": "QE7uXUTZAkAc"
      },
      "outputs": [],
      "source": [
        "!cd llama.cpp/models && wget https://huggingface.co/lucianosb/canarim-7b-GGUF/resolve/main/canarim7b-q4_1.gguf"
      ]
    },
    {
      "cell_type": "markdown",
      "metadata": {
        "id": "dsZNvOFqHWJT"
      },
      "source": [
        "#Inferência"
      ]
    },
    {
      "cell_type": "code",
      "execution_count": null,
      "metadata": {
        "id": "2KR213E3OGhz"
      },
      "outputs": [],
      "source": [
        "# Edite apenas a porção INSTRUÇÃO do prompt em -p\n",
        "\n",
        "comando = \"Complete a classifica\\xE7\\xE3o da \\xFAltima frase de acordo com os exemplos fornecidos.  Isso \\xE9 demais! // Negativo  Isso \\xE9 ruim! // Positivo  Que filme maravilhoso! // Positivo  Que s\\xE9rie horr\\xEDvel! //\" #@param {type:\"string\"}\n",
        "\n",
        "!cd llama.cpp && ./main -m ./models/canarim7b-q4_1.gguf --color --temp 0.7 -n 256 -p \"### Instrução: {comando} ### Resposta:\""
      ]
    },
    {
      "cell_type": "code",
      "execution_count": 5,
      "metadata": {
        "id": "5eR7RWKRRbra"
      },
      "outputs": [],
      "source": []
    }
  ],
  "metadata": {
    "colab": {
      "provenance": []
    },
    "kernelspec": {
      "display_name": "Python 3",
      "name": "python3"
    },
    "language_info": {
      "name": "python"
    }
  },
  "nbformat": 4,
  "nbformat_minor": 0
}
